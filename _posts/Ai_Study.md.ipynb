{
 "cells": [
  {
   "cell_type": "markdown",
   "id": "ab5b019e",
   "metadata": {},
   "source": [
    "< AI 스터디 > Week1. 데이터, 변수, 연산자, 입출력, 조건, 함수 (1)"
   ]
  },
  {
   "cell_type": "markdown",
   "id": "8c84349f",
   "metadata": {},
   "source": [
    "컴퓨터 자료형 "
   ]
  },
  {
   "attachments": {},
   "cell_type": "markdown",
   "id": "0ad65c99",
   "metadata": {},
   "source": [
    "| 자료형 | 리터럴 설명 | 범위 | 크기 |\n",
    "| --- | --- | --- | --- |\n",
    "| int | 정수형 | -21억 ~ +21억 | 4 byte(32bit) |\n",
    "| short | 정수형 | -4만 ~ +4만 | 2 byte(16bit) |\n",
    "| long | 정수형 | -21억 ~ +21억 | 4 byte(32bit) |\n",
    "| long long | 정수형 | 무수히 큼(암튼 큼) | 8 byte(64bit) |\n",
    "| float | 실수형(고정 소수점 방식, 단정도 실수형) | -1.175494351 E-38 ~ +3.402823466 E+38 | 4 byte(32bit) |\n",
    "| double | 실수형(부동 소수점 방식, 배정도 실수형) | -2.2250738585072014 E - 308 ~ +1.7976931348623158 E + 308 | 8 byte(64bit) |\n",
    "| char | 문자형(Parents : 정수) | -128 ~ 127 | 1byte(8bit) |\n",
    "| boolean | 논리형(Parents : 정수) | -128 ~ 127(0 : 거짓, 1 : 참) | 1byte(8bit) |"
   ]
  },
  {
   "cell_type": "markdown",
   "id": "f3e5c08e",
   "metadata": {},
   "source": [
    "문제 1. 두개의 정수를 입력받고, 이 두 정수를 Parameter로 가지고, 사칙연산을 수행하는 함수 'print_arithmetic_operation' 함수를 작성하자."
   ]
  },
  {
   "cell_type": "code",
   "execution_count": 2,
   "id": "aef6c996",
   "metadata": {},
   "outputs": [
    {
     "name": "stdout",
     "output_type": "stream",
     "text": [
      "1\n",
      "2\n",
      "두 정수의 합은 :  3\n",
      "두 정수의 합은 :  -1\n",
      "두 정수의 합은 :  2\n",
      "두 정수의 합은 :  0.5\n"
     ]
    }
   ],
   "source": [
    "def print_arithmetic_operation (a,b) :\n",
    "    print(\"두 정수의 합은 : \", a+b)\n",
    "    print(\"두 정수의 합은 : \", a-b)\n",
    "    print(\"두 정수의 합은 : \", a*b)\n",
    "    print(\"두 정수의 합은 : \", a/b)\n",
    "\n",
    "a = int(input())\n",
    "b = int(input())\n",
    "\n",
    "print_arithmetic_operation(a,b)\n",
    "\n",
    "    "
   ]
  },
  {
   "cell_type": "markdown",
   "id": "529187b5",
   "metadata": {},
   "source": [
    "문제 2. 세개의 정수를 입력받아 가장 큰 수를 반환하는 'print_max' 함수를 정의하고, 함수의 반환값을 출력하는 코드를 작성하자."
   ]
  },
  {
   "cell_type": "code",
   "execution_count": 28,
   "id": "a43c8fdb",
   "metadata": {},
   "outputs": [
    {
     "name": "stdout",
     "output_type": "stream",
     "text": [
      "3\n",
      "2\n",
      "1\n",
      "3\n"
     ]
    }
   ],
   "source": [
    "def print_max(a,b,c) :\n",
    "    max_value = 0\n",
    "    \n",
    "    if a > max_value : max_value = a\n",
    "    if b > max_value : max_value = b\n",
    "    if c > max_value : max_value = c\n",
    "        \n",
    "    return max_value\n",
    "        \n",
    "a = int(input())\n",
    "b = int(input())\n",
    "c = int(input())\n",
    "\n",
    "print(print_max(a,b,c))\n",
    "\n",
    "\n",
    "    \n",
    "    \n",
    "    "
   ]
  },
  {
   "cell_type": "code",
   "execution_count": null,
   "id": "f7a29b94",
   "metadata": {},
   "outputs": [],
   "source": []
  },
  {
   "cell_type": "code",
   "execution_count": null,
   "id": "69776ec9",
   "metadata": {},
   "outputs": [],
   "source": []
  },
  {
   "cell_type": "code",
   "execution_count": null,
   "id": "a7101a0c",
   "metadata": {},
   "outputs": [],
   "source": []
  },
  {
   "cell_type": "code",
   "execution_count": null,
   "id": "93c585a7",
   "metadata": {},
   "outputs": [],
   "source": []
  },
  {
   "cell_type": "code",
   "execution_count": null,
   "id": "4f5be0e0",
   "metadata": {},
   "outputs": [],
   "source": []
  },
  {
   "cell_type": "code",
   "execution_count": null,
   "id": "553b786b",
   "metadata": {},
   "outputs": [],
   "source": []
  },
  {
   "cell_type": "code",
   "execution_count": null,
   "id": "2c56fc62",
   "metadata": {},
   "outputs": [],
   "source": []
  },
  {
   "cell_type": "code",
   "execution_count": null,
   "id": "ea54f678",
   "metadata": {},
   "outputs": [],
   "source": []
  },
  {
   "cell_type": "code",
   "execution_count": null,
   "id": "2c8eecf8",
   "metadata": {},
   "outputs": [],
   "source": []
  },
  {
   "cell_type": "code",
   "execution_count": null,
   "id": "ae0ed476",
   "metadata": {},
   "outputs": [],
   "source": []
  },
  {
   "cell_type": "code",
   "execution_count": null,
   "id": "5cff70e2",
   "metadata": {},
   "outputs": [],
   "source": []
  },
  {
   "cell_type": "code",
   "execution_count": null,
   "id": "fbdcf27f",
   "metadata": {},
   "outputs": [],
   "source": []
  },
  {
   "cell_type": "code",
   "execution_count": null,
   "id": "bb8aa334",
   "metadata": {},
   "outputs": [],
   "source": []
  },
  {
   "cell_type": "code",
   "execution_count": null,
   "id": "7665dd25",
   "metadata": {},
   "outputs": [],
   "source": []
  },
  {
   "cell_type": "code",
   "execution_count": null,
   "id": "1b51b264",
   "metadata": {},
   "outputs": [],
   "source": []
  },
  {
   "cell_type": "code",
   "execution_count": null,
   "id": "820d9df9",
   "metadata": {},
   "outputs": [],
   "source": []
  },
  {
   "cell_type": "code",
   "execution_count": null,
   "id": "04b9e72e",
   "metadata": {},
   "outputs": [],
   "source": []
  },
  {
   "cell_type": "code",
   "execution_count": null,
   "id": "d7cc55b9",
   "metadata": {},
   "outputs": [],
   "source": []
  },
  {
   "cell_type": "code",
   "execution_count": null,
   "id": "6c0f64f2",
   "metadata": {},
   "outputs": [],
   "source": []
  },
  {
   "cell_type": "code",
   "execution_count": null,
   "id": "8ef73ed9",
   "metadata": {},
   "outputs": [],
   "source": []
  },
  {
   "cell_type": "code",
   "execution_count": null,
   "id": "3bc92728",
   "metadata": {},
   "outputs": [],
   "source": []
  },
  {
   "cell_type": "code",
   "execution_count": null,
   "id": "ed54e9e6",
   "metadata": {},
   "outputs": [],
   "source": []
  },
  {
   "cell_type": "code",
   "execution_count": null,
   "id": "eb2d7de2",
   "metadata": {},
   "outputs": [],
   "source": []
  },
  {
   "cell_type": "code",
   "execution_count": null,
   "id": "588b50e3",
   "metadata": {},
   "outputs": [],
   "source": []
  },
  {
   "cell_type": "code",
   "execution_count": null,
   "id": "21c9afe3",
   "metadata": {},
   "outputs": [],
   "source": []
  },
  {
   "cell_type": "code",
   "execution_count": null,
   "id": "05845b77",
   "metadata": {},
   "outputs": [],
   "source": []
  },
  {
   "cell_type": "code",
   "execution_count": null,
   "id": "13c8f11c",
   "metadata": {},
   "outputs": [],
   "source": []
  },
  {
   "cell_type": "markdown",
   "id": "745e53a0",
   "metadata": {},
   "source": []
  },
  {
   "cell_type": "code",
   "execution_count": null,
   "id": "0f2a45d0",
   "metadata": {},
   "outputs": [],
   "source": []
  },
  {
   "cell_type": "code",
   "execution_count": null,
   "id": "72a8ad7d",
   "metadata": {},
   "outputs": [],
   "source": []
  },
  {
   "cell_type": "code",
   "execution_count": null,
   "id": "e2bb45a3",
   "metadata": {},
   "outputs": [],
   "source": []
  }
 ],
 "metadata": {
  "kernelspec": {
   "display_name": "Python 3 (ipykernel)",
   "language": "python",
   "name": "python3"
  },
  "language_info": {
   "codemirror_mode": {
    "name": "ipython",
    "version": 3
   },
   "file_extension": ".py",
   "mimetype": "text/x-python",
   "name": "python",
   "nbconvert_exporter": "python",
   "pygments_lexer": "ipython3",
   "version": "3.10.9"
  }
 },
 "nbformat": 4,
 "nbformat_minor": 5
}
